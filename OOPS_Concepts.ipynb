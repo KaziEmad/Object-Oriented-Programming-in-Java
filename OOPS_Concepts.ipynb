{
 "cells": [
  {
   "cell_type": "markdown",
   "id": "c075ff24",
   "metadata": {},
   "source": [
    "# Object Oriented Programming System (OOPS) Concepts\n",
    "\n",
    "---"
   ]
  },
  {
   "cell_type": "markdown",
   "id": "6cba57fa",
   "metadata": {},
   "source": [
    "## What is OOPS?"
   ]
  },
  {
   "cell_type": "markdown",
   "id": "ea971e2a",
   "metadata": {},
   "source": [
    "Object Oriented Programming (OOP) is a methodology or paradigm to create a program using classes and objects. It simplifies software development and maintenance by providing some concepts."
   ]
  },
  {
   "cell_type": "markdown",
   "id": "cc00ff70",
   "metadata": {},
   "source": [
    "\n",
    "<p align=\"center\">\n",
    "  <img src=\"javaoops.png\">\n",
    "  <br>\n",
    "  <em>Figure 1. OOPs (Object-Oriented Programming System)</em>\n",
    "</p>\n",
    "\n"
   ]
  },
  {
   "cell_type": "markdown",
   "id": "b5eedea8",
   "metadata": {},
   "source": [
    "## Why OOPS?\n",
    "\n",
    "- Helps solve complex programming problems.\n",
    "- Encourages code reuse, reducing redundancy.\n",
    "- Supports data abstraction and encapsulation.\n",
    "- Follows a bottom-up approach (unlike procedural programming’s top-down approach).\n",
    "- Provides flexibility through polymorphism."
   ]
  },
  {
   "cell_type": "markdown",
   "id": "70019931",
   "metadata": {},
   "source": [
    "## Class and Object\n",
    "_The collection of objects is called class._ It is a logical entity."
   ]
  },
  {
   "cell_type": "markdown",
   "id": "ea42a993",
   "metadata": {},
   "source": [
    "### Class\n",
    "A class can also be defined as a **blueprint** from which you can create an individual object. Class doesn't consume any space.\n",
    "\n",
    "<span style=\"color:#CC33CC\">**N.B.** The class does not occupy any memory space until an object is instantiated.</span><br>\n"
   ]
  },
  {
   "cell_type": "markdown",
   "id": "1ac3ab57",
   "metadata": {},
   "source": [
    "### Object\n",
    "An object is a run-time entity. It is an instance of the class. An object can represent a person, place, or any other item. An object can operate on both data members and member functions. "
   ]
  },
  {
   "cell_type": "markdown",
   "id": "74b1cc6c",
   "metadata": {},
   "source": [
    "#### Example:"
   ]
  },
  {
   "cell_type": "code",
   "execution_count": 8,
   "id": "31cd38d0",
   "metadata": {
    "vscode": {
     "languageId": "java"
    }
   },
   "outputs": [
    {
     "name": "stdout",
     "output_type": "stream",
     "text": [
      "This is Ahsanul Karim, age 22\n"
     ]
    }
   ],
   "source": [
    "class Student {\n",
    "    String name;\n",
    "    int age;\n",
    "\n",
    "    public void getInfo() {\n",
    "        System.out.println(\"This is \" + this.name + \", age \" + this.age);\n",
    "    }\n",
    "}\n",
    "\n",
    "class OOPS {\n",
    "    public static void main(String[] arg) {\n",
    "        Student s1 = new Student();\n",
    "        s1.name = \"Ahsanul Karim\";\n",
    "        s1.age = 22;\n",
    "        s1.getInfo();\n",
    "    }\n",
    "}\n",
    "\n",
    "// Running the main method manually\n",
    "OOPS.main(null);"
   ]
  },
  {
   "cell_type": "markdown",
   "id": "4e8698f1",
   "metadata": {},
   "source": [
    "<span style=\"color:#CC33CC\">**N.B.** When an object is created using `new`, memory is allocated in the heap, and the reference is stored in the stack memory.</span><br>\n"
   ]
  },
  {
   "cell_type": "markdown",
   "id": "cac24ffd",
   "metadata": {},
   "source": [
    "## `\"this\"` Keyword"
   ]
  },
  {
   "cell_type": "markdown",
   "id": "9f0647d1",
   "metadata": {},
   "source": [
    "The `this` keyword in Java refers to the current instance of the class.  \n",
    "\n",
    "In **OOPs**, it is used to:\n",
    "1. Pass the current object as a parameter to another method.  \n",
    "2. Refer to the current class instance variable."
   ]
  },
  {
   "cell_type": "markdown",
   "id": "2fd84d54",
   "metadata": {},
   "source": [
    "## Constructor"
   ]
  },
  {
   "cell_type": "markdown",
   "id": "fceee066",
   "metadata": {},
   "source": [
    "A **Constructor** is a special method which is invoked automatically at the time of object creation.  \n",
    "\n",
    "It is used to initialize the data members of new objects generally.\n",
    "- Constructors have the same name as the **class** or structure.  \n",
    "- Constructors don’t have a return type (not even `void`).  \n",
    "- Constructors are only called once, at the time of object creation."
   ]
  },
  {
   "cell_type": "markdown",
   "id": "a70cd807",
   "metadata": {},
   "source": [
    "There can be three types of constructors in Java:\n",
    "1. **Non-Parameterized Constructor**  \n",
    "2. **Parameterized Constructor**  \n",
    "3. **Copy Constructor**"
   ]
  },
  {
   "cell_type": "markdown",
   "id": "e45d7dba",
   "metadata": {},
   "source": [
    "\n",
    "<p align=\"center\">\n",
    "  <img src=\"Constructors.png\">\n",
    "  <br>\n",
    "  <em>Figure 2. Constructor in C++</em>\n",
    "</p>\n",
    "\n"
   ]
  },
  {
   "cell_type": "markdown",
   "id": "995993eb",
   "metadata": {},
   "source": [
    "### Non-Parameterized Constructor"
   ]
  },
  {
   "cell_type": "markdown",
   "id": "dd338429",
   "metadata": {},
   "source": [
    "A constructor **that has no arguments** is known as a **non-parameterized constructor** (or **no-argument constructor**).  \n",
    "It is invoked at the time of creating an object. If we don’t create one, it is automatically created by Java by default.\n"
   ]
  },
  {
   "cell_type": "markdown",
   "id": "74032514",
   "metadata": {},
   "source": [
    "\n",
    "#### Example:"
   ]
  },
  {
   "cell_type": "code",
   "execution_count": 9,
   "id": "785ee71a",
   "metadata": {
    "vscode": {
     "languageId": "java"
    }
   },
   "outputs": [
    {
     "name": "stdout",
     "output_type": "stream",
     "text": [
      "Constructor is Called!\n"
     ]
    }
   ],
   "source": [
    "class Student {\n",
    "    Student() {\n",
    "        System.out.println(\"Constructor is Called!\");\n",
    "    }\n",
    "}\n",
    "\n",
    "class OOPS {\n",
    "    public static void main(String[] arg) {\n",
    "        Student s1 = new Student();\n",
    "    }\n",
    "}\n",
    "\n",
    "// Running the main method manually\n",
    "OOPS.main(null)"
   ]
  },
  {
   "cell_type": "markdown",
   "id": "3609c646",
   "metadata": {},
   "source": [
    "### Parameterized Constructor"
   ]
  },
  {
   "cell_type": "markdown",
   "id": "db82f527",
   "metadata": {},
   "source": [
    "A **constructor that has parameters** is called a **parameterized constructor**. It is used to provide **different values** to distinct objects."
   ]
  },
  {
   "cell_type": "markdown",
   "id": "7e10a08c",
   "metadata": {},
   "source": [
    "\n",
    "#### Example:"
   ]
  },
  {
   "cell_type": "code",
   "execution_count": 10,
   "id": "f1b94101",
   "metadata": {
    "vscode": {
     "languageId": "java"
    }
   },
   "outputs": [
    {
     "name": "stdout",
     "output_type": "stream",
     "text": [
      "Constructor is Created for Md. Ariful Islam, age 23\n"
     ]
    }
   ],
   "source": [
    "class Student {\n",
    "    String name;\n",
    "    int age;\n",
    "\n",
    "    Student(String name, int age) {\n",
    "        this.name = name;\n",
    "        this.age = age;\n",
    "        System.out.println(\"Constructor is Created for \" + name + \", age \" + age);\n",
    "    }\n",
    "}\n",
    "\n",
    "class OOPS {\n",
    "    public static void main(String[] arg) {\n",
    "        Student s1 = new Student(\"Md. Ariful Islam\", 23);\n",
    "    }\n",
    "}\n",
    "\n",
    "// Running the main method manually\n",
    "OOPS.main(null)"
   ]
  },
  {
   "cell_type": "markdown",
   "id": "0e98c12b",
   "metadata": {},
   "source": [
    "### Copy Constructor"
   ]
  },
  {
   "cell_type": "markdown",
   "id": "50815b89",
   "metadata": {},
   "source": [
    "A **Copy Constructor** is an overloaded constructor used to declare and initialize an object from another object. There is only a **user-defined copy constructor** in Java (unlike C++, which has a default one too)."
   ]
  },
  {
   "cell_type": "markdown",
   "id": "7b807282",
   "metadata": {},
   "source": [
    "\n",
    "#### Example:"
   ]
  },
  {
   "cell_type": "code",
   "execution_count": 11,
   "id": "17236f92",
   "metadata": {
    "vscode": {
     "languageId": "java"
    }
   },
   "outputs": [
    {
     "name": "stdout",
     "output_type": "stream",
     "text": [
      "Default constructor is created\n",
      "Constructor is created for Sharukh, age 24\n"
     ]
    }
   ],
   "source": [
    "class Student {\n",
    "    String name;\n",
    "    int age;\n",
    "\n",
    "    Student() {\n",
    "        System.out.println(\"Default constructor is created\");\n",
    "    }\n",
    "\n",
    "    Student(Student s1) {\n",
    "        this.name = s1.name;\n",
    "        this.age = s1.age;\n",
    "        System.out.println(\"Constructor is created for \" + name + \", age \" + age);\n",
    "    }\n",
    "}\n",
    "\n",
    "class OOPS {\n",
    "    public static void main(String[] arg) {\n",
    "        Student s1 = new Student();\n",
    "        s1.name = \"Sharukh\";\n",
    "        s1.age = 24;\n",
    "        Student s2 = new Student(s1);\n",
    "    }\n",
    "}\n",
    "\n",
    "// Running the main method manually\n",
    "OOPS.main(null)"
   ]
  },
  {
   "cell_type": "markdown",
   "id": "d9173d77",
   "metadata": {},
   "source": [
    "<span style=\"color:#CC33CC\">**N.B.** Unlike languages like C++, **Java has no Destructor**. Instead, Java has an **efficient garbage collector** that deallocates memory automatically.</span><br>\n"
   ]
  },
  {
   "cell_type": "markdown",
   "id": "71a88b7d",
   "metadata": {},
   "source": [
    "## Difference between `constructor` and `method`:"
   ]
  },
  {
   "cell_type": "markdown",
   "id": "6ba15838",
   "metadata": {},
   "source": [
    "There are many differences between **constructors** and **methods** in Java. They are given below:\n",
    "\n",
    "| **Java Constructor** | **Java Method** |\n",
    "|-----------------------|-----------------|\n",
    "| A constructor is used to initialize the state of an object. | A method is used to expose the behavior of an object. |\n",
    "| A constructor must not have a return type. | A method must have a return type. |\n",
    "| The constructor is invoked implicitly. | The method is invoked explicitly. |\n",
    "| The Java compiler provides a default constructor if you don't have any constructor in a class. | The method is not provided by the compiler in any case. |\n",
    "| The constructor name must be the same as the class name. | The method name may or may not be the same as the class name. |\n"
   ]
  },
  {
   "cell_type": "markdown",
   "id": "94a8f5c3",
   "metadata": {},
   "source": [
    "## Polymorphism"
   ]
  },
  {
   "cell_type": "markdown",
   "id": "c17d2d2d",
   "metadata": {},
   "source": [
    "Polymorphism is the ability to present the same interface for differing underlying forms (data types). With polymorphism, each of these classes will have different underlying data. Precisely, **Poly** means **'many'** and **morphism** means **'forms'**.\n",
    "\n",
    "**Types of Polymorphism:**\n",
    "1. **Compile-Time Polymorphism (Static)**\n",
    "2. **Runtime Polymorphism (Dynamic)**"
   ]
  },
  {
   "cell_type": "markdown",
   "id": "ee3dcfb5",
   "metadata": {},
   "source": [
    "### Compile-Time Polymorphism (Static):"
   ]
  },
  {
   "cell_type": "markdown",
   "id": "c4f84245",
   "metadata": {},
   "source": [
    "The polymorphism which is implemented at **compile time** is known as **compile-time polymorphism**. Example: - **Method Overloading**"
   ]
  },
  {
   "cell_type": "markdown",
   "id": "4cba1194",
   "metadata": {},
   "source": [
    "#### `Method Overloading`:\n",
    "\n",
    "If a class has multiple methods having the same name but different parameters, it is known as **`Method Overloading`**. There are two ways to overload a method in Java:\n",
    "1. By changing the number of arguments  \n",
    "2. By changing the data type\n"
   ]
  },
  {
   "cell_type": "markdown",
   "id": "03bc8e7c",
   "metadata": {},
   "source": [
    "#### Example:"
   ]
  },
  {
   "cell_type": "code",
   "execution_count": 24,
   "id": "5244d4c2",
   "metadata": {
    "vscode": {
     "languageId": "java"
    }
   },
   "outputs": [
    {
     "name": "stdout",
     "output_type": "stream",
     "text": [
      "Emad 25\n"
     ]
    }
   ],
   "source": [
    "class Student {\n",
    "    public void displayInfo(String name) {\n",
    "        System.out.println(name);\n",
    "    }\n",
    "    public void displayInfo(int age) {\n",
    "        System.out.println(age);\n",
    "    }\n",
    "    public void displayInfo(String name, int age) {\n",
    "        System.out.println(name + \" \" + age);\n",
    "    }\n",
    "}\n",
    "\n",
    "class OOPS {\n",
    "    public static void main(String[] arg) {\n",
    "        Student s1 = new Student();\n",
    "        s1.displayInfo(\"Emad\", 25);\n",
    "    }\n",
    "}\n",
    "\n",
    "// Running the main method manually\n",
    "OOPS.main(null)"
   ]
  },
  {
   "cell_type": "markdown",
   "id": "61e5fdd5",
   "metadata": {},
   "source": [
    "### Runtime Polymorphism (Dynamic):"
   ]
  },
  {
   "cell_type": "markdown",
   "id": "8488772d",
   "metadata": {},
   "source": [
    "Runtime polymorphism is also known as dynamic polymorphism. **Function Overriding** is an example of runtime polymorphism."
   ]
  },
  {
   "cell_type": "markdown",
   "id": "687d293d",
   "metadata": {},
   "source": [
    "#### `Method Overriding`:\n",
    "\n",
    "If a **subclass (child class)** has the same method as declared in the **parent class**, it is known as **`method overriding`** in Java. In other words, if a subclass provides a specific implementation of a method that has been declared by one of its parent classes, it is called method overriding.\n",
    "\n",
    "**Rules for Java Method Overriding:**\n",
    "1. The method must have the same name as in the parent class.  \n",
    "2. The method must have the same parameter(s) as in the parent class.  \n",
    "3. There must be an **IS-A relationship (inheritance)**."
   ]
  },
  {
   "cell_type": "markdown",
   "id": "02d3b86d",
   "metadata": {},
   "source": [
    "#### Example:"
   ]
  },
  {
   "cell_type": "code",
   "execution_count": 25,
   "id": "cbec5936",
   "metadata": {
    "vscode": {
     "languageId": "java"
    }
   },
   "outputs": [
    {
     "name": "stdout",
     "output_type": "stream",
     "text": [
      "Bike is running safely\n"
     ]
    }
   ],
   "source": [
    "class Vehicle {\n",
    "    void run() {\n",
    "        System.out.println(\"Vehicle is running\");\n",
    "    }\n",
    "}\n",
    "\n",
    "class Bike extends Vehicle {\n",
    "    void run() {\n",
    "        System.out.println(\"Bike is running safely\");\n",
    "    }\n",
    "}\n",
    "\n",
    "class OOPS {\n",
    "    public static void main(String[] arg) {\n",
    "        Bike r15 = new Bike();\n",
    "        r15.run();\n",
    "    }\n",
    "}\n",
    "\n",
    "// Running the main method manually\n",
    "OOPS.main(null)"
   ]
  },
  {
   "cell_type": "markdown",
   "id": "34f9c749",
   "metadata": {},
   "source": [
    "## Inheritance\n",
    "\n",
    "Inheritance enables reusability by allowing one class to acquire another’s properties and methods.\n",
    "\n",
    "\n",
    "<p align=\"center\">\n",
    "  <img src=\"Types of Inheritance.png\">\n",
    "  <br>\n",
    "  <em>Figure 3. Types of Inheritance</em>\n",
    "</p>\n",
    "\n"
   ]
  },
  {
   "cell_type": "code",
   "execution_count": 14,
   "id": "ab19d328",
   "metadata": {
    "vscode": {
     "languageId": "java"
    }
   },
   "outputs": [
    {
     "name": "stdout",
     "output_type": "stream",
     "text": [
      "Programmer salary is:40000.0\n",
      "Bonus of Programmer is:10000\n"
     ]
    }
   ],
   "source": [
    "class Employee {\n",
    "    float salary = 40000;\n",
    "}\n",
    "\n",
    "class Programmer extends Employee {\n",
    "    int bonus = 10000;\n",
    "}\n",
    "\n",
    "class OOPS {\n",
    "    public static void main(String[] arg) {\n",
    "        Programmer p = new Programmer();\n",
    "        System.out.println(\"Programmer salary is:\" + p.salary);\n",
    "        System.out.println(\"Bonus of Programmer is:\" + p.bonus);\n",
    "    }\n",
    "}\n",
    "\n",
    "// Running the main method manually\n",
    "OOPS.main(null)"
   ]
  },
  {
   "cell_type": "markdown",
   "id": "19d07a92",
   "metadata": {},
   "source": [
    "## Encapsulation\n",
    "\n",
    "Encapsulation combines data and functions into one unit, restricting direct access and ensuring control."
   ]
  },
  {
   "cell_type": "code",
   "execution_count": 16,
   "id": "69c4fd73",
   "metadata": {
    "vscode": {
     "languageId": "java"
    }
   },
   "outputs": [
    {
     "name": "stdout",
     "output_type": "stream",
     "text": [
      "Your Password is: abcd\n"
     ]
    }
   ],
   "source": [
    "class Account {\n",
    "   public String name;\n",
    "   protected String email;\n",
    "   private String password;\n",
    "\n",
    "   public void setPassword(String password) {\n",
    "       this.password = password;\n",
    "   }\n",
    "\n",
    "   public String getPassword() {\n",
    "       return password;\n",
    "   }\n",
    "}\n",
    "\n",
    "class OOPS {\n",
    "   public static void main(String[] args) {\n",
    "       Account a1 = new Account();\n",
    "       a1.name = \"Green University of Bangladesh\";\n",
    "       a1.email = \"hello@green.com\";\n",
    "       a1.setPassword(\"abcd\");\n",
    "\n",
    "       System.out.println(\"Your Password is: \" + a1.getPassword());\n",
    "   }\n",
    "}\n",
    "\n",
    "// Running the main method manually\n",
    "OOPS.main(null)"
   ]
  },
  {
   "cell_type": "markdown",
   "id": "ef6ef2a6",
   "metadata": {},
   "source": [
    "## Abstraction\n",
    "\n",
    "Abstraction hides implementation details and shows only functionality.\n",
    "\n",
    "### Example: Abstract Class"
   ]
  },
  {
   "cell_type": "code",
   "execution_count": 19,
   "id": "c6d078cd",
   "metadata": {
    "vscode": {
     "languageId": "java"
    }
   },
   "outputs": [
    {
     "name": "stdout",
     "output_type": "stream",
     "text": [
      "Running Safely\n"
     ]
    }
   ],
   "source": [
    "abstract class Bike {\n",
    "    abstract void run();\n",
    "}\n",
    "\n",
    "class R15 extends Bike {\n",
    "    void run() {\n",
    "        System.out.println(\"Running Safely\");\n",
    "    }\n",
    "}\n",
    "\n",
    "class OOPS {\n",
    "   public static void main(String[] args) {\n",
    "       R15 bike = new R15();\n",
    "       bike.run();\n",
    "   }\n",
    "}\n",
    "\n",
    "// Running the main method manually\n",
    "OOPS.main(null)"
   ]
  },
  {
   "cell_type": "markdown",
   "id": "8f56f31a",
   "metadata": {},
   "source": [
    "### Example: Interface"
   ]
  },
  {
   "cell_type": "code",
   "execution_count": 20,
   "id": "b8b89476",
   "metadata": {
    "vscode": {
     "languageId": "java"
    }
   },
   "outputs": [
    {
     "name": "stdout",
     "output_type": "stream",
     "text": [
      "Drawing Circle\n"
     ]
    }
   ],
   "source": [
    "interface Drawable {\n",
    "    void draw();\n",
    "}\n",
    "\n",
    "class Circle implements Drawable {\n",
    "    public void draw() {\n",
    "        System.out.println(\"Drawing Circle\");\n",
    "    }\n",
    "}\n",
    "\n",
    "class OOPS {\n",
    "   public static void main(String[] args) {\n",
    "       Circle c1 = new Circle();\n",
    "       c1.draw();\n",
    "   }\n",
    "}\n",
    "\n",
    "// Running the main method manually\n",
    "OOPS.main(null)"
   ]
  },
  {
   "cell_type": "markdown",
   "id": "43594b07",
   "metadata": {},
   "source": [
    "\n",
    "<p align=\"center\">\n",
    "  <img src=\"multipleinheritance.png\">\n",
    "  <br>\n",
    "  <em>Figure 4. Multiple Inheritance in Java</em>\n",
    "</p>\n",
    "\n"
   ]
  },
  {
   "cell_type": "code",
   "execution_count": 22,
   "id": "c48b931d",
   "metadata": {
    "vscode": {
     "languageId": "java"
    }
   },
   "outputs": [
    {
     "name": "stdout",
     "output_type": "stream",
     "text": [
      "Printing...\n",
      "Showing...\n"
     ]
    }
   ],
   "source": [
    "interface Printable {\n",
    "    void print();\n",
    "}\n",
    "\n",
    "interface Showable {\n",
    "    void show();\n",
    "}\n",
    "\n",
    "class Test implements Printable, Showable {\n",
    "    public void print() {\n",
    "        System.out.println(\"Printing...\");\n",
    "    }\n",
    "    public void show() {\n",
    "        System.out.println(\"Showing...\");\n",
    "    }\n",
    "}\n",
    "\n",
    "public class OOPS {\n",
    "    public static void main(String[] args) {\n",
    "        Test obj = new Test();\n",
    "        obj.print();\n",
    "        obj.show();\n",
    "    }\n",
    "}\n",
    "\n",
    "// Running the main method manually\n",
    "OOPS.main(null)"
   ]
  },
  {
   "cell_type": "markdown",
   "id": "2887f8d5",
   "metadata": {},
   "source": [
    "## Static Keyword\n",
    "\n",
    "Static members belong to the class rather than instances."
   ]
  },
  {
   "cell_type": "code",
   "execution_count": 23,
   "id": "e83cc715",
   "metadata": {
    "vscode": {
     "languageId": "java"
    }
   },
   "outputs": [
    {
     "name": "stdout",
     "output_type": "stream",
     "text": [
      "The Scholars' College\n",
      "The Scholars' College\n"
     ]
    }
   ],
   "source": [
    "class Student {\n",
    "   static String school;\n",
    "   String name;\n",
    "}\n",
    "\n",
    "public class OOPS {\n",
    "   public static void main(String[] args) {\n",
    "       Student.school = \"The Scholars' College\";\n",
    "       Student s1 = new Student();\n",
    "       Student s2 = new Student();\n",
    "\n",
    "       s1.name = \"Meena\";\n",
    "       s2.name = \"Raju\";\n",
    "\n",
    "       System.out.println(s1.school);\n",
    "       System.out.println(s2.school);\n",
    "   }\n",
    "}\n",
    "\n",
    "// Running the main method manually\n",
    "OOPS.main(null)"
   ]
  }
 ],
 "metadata": {
  "kernelspec": {
   "display_name": "Java",
   "language": "java",
   "name": "java"
  },
  "language_info": {
   "codemirror_mode": "java",
   "file_extension": ".jshell",
   "mimetype": "text/x-java-source",
   "name": "Java",
   "pygments_lexer": "java",
   "version": "17.0.12+8-LTS-286"
  }
 },
 "nbformat": 4,
 "nbformat_minor": 5
}
