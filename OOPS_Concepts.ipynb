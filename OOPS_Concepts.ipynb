{
 "cells": [
  {
   "cell_type": "markdown",
   "id": "c075ff24",
   "metadata": {},
   "source": [
    "# **Object Oriented Programming System (OOPS) Concepts**"
   ]
  },
  {
   "cell_type": "markdown",
   "id": "fb21211e",
   "metadata": {},
   "source": [
    "# Table of Contents\n",
    "- [Object-Oriented Programming System (OOPS) Concepts](#object-oriented-programming-system-oops-concepts)\n",
    "  - [What is OOPS](#what-is-oops)\n",
    "  - [Why is OOPS](#why-oops)\n",
    "  - [Classes and Objects](#class-and-object)\n",
    "  - [`this` Keyword](#this-keyword)\n",
    "  - [Constructors](#constructor)\n",
    "    - [Non-Parameterized Constructor](#non-parameterized-constructor)\n",
    "    - [Parameterized Constructor](#parameterized-constructor)\n",
    "    - [Copy Constructor](#copy-constructor)\n",
    "  - [Difference between `Constructor` and `Method` ](#difference-between-constructor-and-method)\n",
    "  - [Polymorphism](#polymorphism)\n",
    "    - [Compile-Time Polymorphism](#compile-time-polymorphism-static)\n",
    "      - [Method Overloading](#method-overloading)\n",
    "    - [Runtime Polymorphism](#runtime-polymorphism-dynamic)\n",
    "      - [Method Overriding](#method-overriding)\n",
    "  - [Inheritance](#inheritance)\n",
    "    - [Single Inheritance](#single-inheritance)\n",
    "    - [Multilevel Inheritance](#multi-level-inheritance)\n",
    "    - [Hierarchical Inheritance](#hierarchical-inheritance)\n",
    "  - [Encapsulation](#encapsulation)\n",
    "    - [Advantages of Encapsulation](#advantages-of-encapsulation)\n",
    "    - [Package](#package)\n",
    "    - [Access Modifiers](#access-modifiers)\n",
    "    - [Encapsulation Defination](#encapsulation-defination)\n",
    "  - [Abstraction](#abstraction)\n",
    "    - [Abstract Class](#abstract-class)\n",
    "      - [Abstract Method](#abstract-method)\n",
    "    - [Interface](#interface)\n",
    "    - [Multiple Inheritance by Interface](#multiple-inheritance-by-interface)\n",
    "    - [Static Keyword](#static-keyword)"
   ]
  },
  {
   "cell_type": "code",
   "execution_count": 36,
   "id": "5c801327",
   "metadata": {},
   "outputs": [],
   "source": [
    "// Code to Convert Jupyter to README.md file (Run the following program on CMD or Bash)\n",
    "// jupyter nbconvert --to markdown OOPS_Concepts.ipynb --output README.md"
   ]
  },
  {
   "cell_type": "markdown",
   "id": "6cba57fa",
   "metadata": {},
   "source": [
    "## **What is OOPS?**"
   ]
  },
  {
   "cell_type": "markdown",
   "id": "ea971e2a",
   "metadata": {},
   "source": [
    "Object Oriented Programming (OOP) is a methodology or paradigm to create a program using classes and objects. It simplifies **software development** and **maintenance** by providing some concepts."
   ]
  },
  {
   "cell_type": "markdown",
   "id": "cc00ff70",
   "metadata": {},
   "source": [
    "\n",
    "<p align=\"center\">\n",
    "  <img src=\"javaoops.png\">\n",
    "  <br>\n",
    "  <em>Figure 1. OOPs (Object-Oriented Programming System)</em>\n",
    "</p>\n",
    "\n"
   ]
  },
  {
   "cell_type": "markdown",
   "id": "b5eedea8",
   "metadata": {},
   "source": [
    "## **Why OOPS?**\n",
    "\n",
    "- Helps solve complex programming problems.\n",
    "- Encourages code reuse, reducing redundancy.\n",
    "- Supports data abstraction and encapsulation.\n",
    "- Follows a bottom-up approach (unlike procedural programming’s top-down approach).\n",
    "- Provides flexibility through polymorphism."
   ]
  },
  {
   "cell_type": "markdown",
   "id": "70019931",
   "metadata": {},
   "source": [
    "## **Class and Object**\n",
    "_The collection of objects is called class._ It is a logical entity."
   ]
  },
  {
   "cell_type": "markdown",
   "id": "ea42a993",
   "metadata": {},
   "source": [
    "### Class\n",
    "A class can also be defined as a **blueprint** from which you can create an individual object. Class doesn't consume any space.\n",
    "\n",
    "<span style=\"color:#CC33CC\">**N.B.** The class does not occupy any memory space until an object is instantiated.</span><br>\n"
   ]
  },
  {
   "cell_type": "markdown",
   "id": "1ac3ab57",
   "metadata": {},
   "source": [
    "### Object\n",
    "An object is a run-time entity. It is an instance of the class. An object can represent a person, place, or any other item. An object can operate on both data members and member functions. "
   ]
  },
  {
   "cell_type": "markdown",
   "id": "74b1cc6c",
   "metadata": {},
   "source": [
    "#### Example:"
   ]
  },
  {
   "cell_type": "code",
   "execution_count": 20,
   "id": "31cd38d0",
   "metadata": {},
   "outputs": [
    {
     "name": "stdout",
     "output_type": "stream",
     "text": [
      "This is Ahsanul Karim, age 22\n"
     ]
    }
   ],
   "source": [
    "class Student {\n",
    "    String name;\n",
    "    int age;\n",
    "\n",
    "    public void getInfo() {\n",
    "        System.out.println(\"This is \" + this.name + \", age \" + this.age);\n",
    "    }\n",
    "}\n",
    "\n",
    "class OOPS {\n",
    "    public static void main(String[] arg) {\n",
    "        Student s1 = new Student();\n",
    "        s1.name = \"Ahsanul Karim\";\n",
    "        s1.age = 22;\n",
    "        s1.getInfo();\n",
    "    }\n",
    "}\n",
    "\n",
    "// Running the main method manually\n",
    "OOPS.main(null);"
   ]
  },
  {
   "cell_type": "markdown",
   "id": "4e8698f1",
   "metadata": {},
   "source": [
    "<span style=\"color:#CC33CC\">**N.B.** When an object is created using `new`, memory is allocated in the heap, and the reference is stored in the stack memory.</span><br>\n"
   ]
  },
  {
   "cell_type": "markdown",
   "id": "cac24ffd",
   "metadata": {},
   "source": [
    "## **`\"this\"` Keyword**"
   ]
  },
  {
   "cell_type": "markdown",
   "id": "9f0647d1",
   "metadata": {},
   "source": [
    "The `this` keyword in Java refers to the current instance of the class.  \n",
    "\n",
    "In **OOPs**, it is used to:\n",
    "1. Pass the current object as a parameter to another method.  \n",
    "2. Refer to the current class instance variable."
   ]
  },
  {
   "cell_type": "markdown",
   "id": "2fd84d54",
   "metadata": {},
   "source": [
    "## **Constructor**"
   ]
  },
  {
   "cell_type": "markdown",
   "id": "fceee066",
   "metadata": {},
   "source": [
    "A **Constructor** is a special method which is invoked automatically at the time of object creation.  \n",
    "\n",
    "It is used to initialize the data members of new objects generally.\n",
    "- Constructors have the same name as the **class** or structure.  \n",
    "- Constructors don’t have a return type (not even `void`).  \n",
    "- Constructors are only called once, at the time of object creation."
   ]
  },
  {
   "cell_type": "markdown",
   "id": "a70cd807",
   "metadata": {},
   "source": [
    "There can be three types of constructors in Java:\n",
    "1. **Non-Parameterized Constructor**  \n",
    "2. **Parameterized Constructor**  \n",
    "3. **Copy Constructor**"
   ]
  },
  {
   "cell_type": "markdown",
   "id": "e45d7dba",
   "metadata": {},
   "source": [
    "\n",
    "<p align=\"center\">\n",
    "  <img src=\"Constructors.png\">\n",
    "  <br>\n",
    "  <em>Figure 2. Constructor in C++</em>\n",
    "</p>\n",
    "\n"
   ]
  },
  {
   "cell_type": "markdown",
   "id": "995993eb",
   "metadata": {},
   "source": [
    "### Non-Parameterized Constructor"
   ]
  },
  {
   "cell_type": "markdown",
   "id": "dd338429",
   "metadata": {},
   "source": [
    "A constructor **that has no arguments** is known as a **non-parameterized constructor** (or **no-argument constructor**).  \n",
    "It is invoked at the time of creating an object. If we don’t create one, it is automatically created by Java by default.\n"
   ]
  },
  {
   "cell_type": "markdown",
   "id": "74032514",
   "metadata": {},
   "source": [
    "\n",
    "#### Example:"
   ]
  },
  {
   "cell_type": "code",
   "execution_count": 21,
   "id": "785ee71a",
   "metadata": {},
   "outputs": [
    {
     "name": "stdout",
     "output_type": "stream",
     "text": [
      "Constructor is Called!\n"
     ]
    }
   ],
   "source": [
    "class Student {\n",
    "    Student() {\n",
    "        System.out.println(\"Constructor is Called!\");\n",
    "    }\n",
    "}\n",
    "\n",
    "class OOPS {\n",
    "    public static void main(String[] arg) {\n",
    "        Student s1 = new Student();\n",
    "    }\n",
    "}\n",
    "\n",
    "// Running the main method manually\n",
    "OOPS.main(null)"
   ]
  },
  {
   "cell_type": "markdown",
   "id": "3609c646",
   "metadata": {},
   "source": [
    "### Parameterized Constructor"
   ]
  },
  {
   "cell_type": "markdown",
   "id": "db82f527",
   "metadata": {},
   "source": [
    "A **constructor that has parameters** is called a **parameterized constructor**. It is used to provide **different values** to distinct objects."
   ]
  },
  {
   "cell_type": "markdown",
   "id": "7e10a08c",
   "metadata": {},
   "source": [
    "\n",
    "#### Example:"
   ]
  },
  {
   "cell_type": "code",
   "execution_count": 22,
   "id": "f1b94101",
   "metadata": {},
   "outputs": [
    {
     "name": "stdout",
     "output_type": "stream",
     "text": [
      "Constructor is Created for Md. Ariful Islam, age 23\n"
     ]
    }
   ],
   "source": [
    "class Student {\n",
    "    String name;\n",
    "    int age;\n",
    "\n",
    "    Student(String name, int age) {\n",
    "        this.name = name;\n",
    "        this.age = age;\n",
    "        System.out.println(\"Constructor is Created for \" + name + \", age \" + age);\n",
    "    }\n",
    "}\n",
    "\n",
    "class OOPS {\n",
    "    public static void main(String[] arg) {\n",
    "        Student s1 = new Student(\"Md. Ariful Islam\", 23);\n",
    "    }\n",
    "}\n",
    "\n",
    "// Running the main method manually\n",
    "OOPS.main(null)"
   ]
  },
  {
   "cell_type": "markdown",
   "id": "0e98c12b",
   "metadata": {},
   "source": [
    "### Copy Constructor"
   ]
  },
  {
   "cell_type": "markdown",
   "id": "50815b89",
   "metadata": {},
   "source": [
    "A **Copy Constructor** is an overloaded constructor used to declare and initialize an object from another object. There is only a **user-defined copy constructor** in Java (unlike C++, which has a default one too)."
   ]
  },
  {
   "cell_type": "markdown",
   "id": "7b807282",
   "metadata": {},
   "source": [
    "\n",
    "#### Example:"
   ]
  },
  {
   "cell_type": "code",
   "execution_count": 23,
   "id": "17236f92",
   "metadata": {},
   "outputs": [
    {
     "name": "stdout",
     "output_type": "stream",
     "text": [
      "Default constructor is created\n",
      "Constructor is created for Sharukh, age 24\n"
     ]
    }
   ],
   "source": [
    "class Student {\n",
    "    String name;\n",
    "    int age;\n",
    "\n",
    "    Student() {\n",
    "        System.out.println(\"Default constructor is created\");\n",
    "    }\n",
    "\n",
    "    Student(Student s1) {\n",
    "        this.name = s1.name;\n",
    "        this.age = s1.age;\n",
    "        System.out.println(\"Constructor is created for \" + name + \", age \" + age);\n",
    "    }\n",
    "}\n",
    "\n",
    "class OOPS {\n",
    "    public static void main(String[] arg) {\n",
    "        Student s1 = new Student();\n",
    "        s1.name = \"Sharukh\";\n",
    "        s1.age = 24;\n",
    "        Student s2 = new Student(s1);\n",
    "    }\n",
    "}\n",
    "\n",
    "// Running the main method manually\n",
    "OOPS.main(null)"
   ]
  },
  {
   "cell_type": "markdown",
   "id": "d9173d77",
   "metadata": {},
   "source": [
    "<span style=\"color:#CC33CC\">**N.B.** Unlike languages like C++, **Java has no Destructor**. Instead, Java has an **efficient garbage collector** that deallocates memory automatically.</span><br>\n"
   ]
  },
  {
   "cell_type": "markdown",
   "id": "71a88b7d",
   "metadata": {},
   "source": [
    "## Difference between `constructor` and `method`:"
   ]
  },
  {
   "cell_type": "markdown",
   "id": "6ba15838",
   "metadata": {},
   "source": [
    "There are many differences between **constructors** and **methods** in Java. They are given below:\n",
    "\n",
    "| **Java Constructor** | **Java Method** |\n",
    "|-----------------------|-----------------|\n",
    "| A constructor is used to initialize the state of an object. | A method is used to expose the behavior of an object. |\n",
    "| A constructor must not have a return type. | A method must have a return type. |\n",
    "| The constructor is invoked implicitly. | The method is invoked explicitly. |\n",
    "| The Java compiler provides a default constructor if you don't have any constructor in a class. | The method is not provided by the compiler in any case. |\n",
    "| The constructor name must be the same as the class name. | The method name may or may not be the same as the class name. |\n"
   ]
  },
  {
   "cell_type": "markdown",
   "id": "94a8f5c3",
   "metadata": {},
   "source": [
    "## **Polymorphism**"
   ]
  },
  {
   "cell_type": "markdown",
   "id": "c17d2d2d",
   "metadata": {},
   "source": [
    "Polymorphism is the ability to present the same interface for differing underlying forms (data types). With polymorphism, each of these classes will have different underlying data. Precisely, **Poly** means **'many'** and **morphism** means **'forms'**.\n",
    "\n",
    "**Types of Polymorphism:**\n",
    "1. **Compile-Time Polymorphism (Static)**\n",
    "2. **Runtime Polymorphism (Dynamic)**"
   ]
  },
  {
   "cell_type": "markdown",
   "id": "ee3dcfb5",
   "metadata": {},
   "source": [
    "### Compile-Time Polymorphism (Static):"
   ]
  },
  {
   "cell_type": "markdown",
   "id": "c4f84245",
   "metadata": {},
   "source": [
    "The polymorphism which is implemented at **compile time** is known as **compile-time polymorphism**. Example: - **Method Overloading**"
   ]
  },
  {
   "cell_type": "markdown",
   "id": "4cba1194",
   "metadata": {},
   "source": [
    "#### `Method Overloading`:\n",
    "\n",
    "If a class has multiple methods having the same name but different parameters, it is known as **`Method Overloading`**. There are two ways to overload a method in Java:\n",
    "1. By changing the number of arguments  \n",
    "2. By changing the data type\n"
   ]
  },
  {
   "cell_type": "markdown",
   "id": "03bc8e7c",
   "metadata": {},
   "source": [
    "#### Example:"
   ]
  },
  {
   "cell_type": "code",
   "execution_count": 24,
   "id": "5244d4c2",
   "metadata": {},
   "outputs": [
    {
     "name": "stdout",
     "output_type": "stream",
     "text": [
      "Emad 25\n"
     ]
    }
   ],
   "source": [
    "class Student {\n",
    "    public void displayInfo(String name) {\n",
    "        System.out.println(name);\n",
    "    }\n",
    "    public void displayInfo(int age) {\n",
    "        System.out.println(age);\n",
    "    }\n",
    "    public void displayInfo(String name, int age) {\n",
    "        System.out.println(name + \" \" + age);\n",
    "    }\n",
    "}\n",
    "\n",
    "class OOPS {\n",
    "    public static void main(String[] arg) {\n",
    "        Student s1 = new Student();\n",
    "        s1.displayInfo(\"Emad\", 25);\n",
    "    }\n",
    "}\n",
    "\n",
    "// Running the main method manually\n",
    "OOPS.main(null)"
   ]
  },
  {
   "cell_type": "markdown",
   "id": "61e5fdd5",
   "metadata": {},
   "source": [
    "### Runtime Polymorphism (Dynamic):"
   ]
  },
  {
   "cell_type": "markdown",
   "id": "8488772d",
   "metadata": {},
   "source": [
    "Runtime polymorphism is also known as dynamic polymorphism. **Function Overriding** is an example of runtime polymorphism."
   ]
  },
  {
   "cell_type": "markdown",
   "id": "687d293d",
   "metadata": {},
   "source": [
    "#### `Method Overriding`:\n",
    "\n",
    "If a **subclass (child class)** has the same method as declared in the **parent class**, it is known as **`method overriding`** in Java. In other words, if a subclass provides a specific implementation of a method that has been declared by one of its parent classes, it is called method overriding.\n",
    "\n",
    "**Rules for Java Method Overriding:**\n",
    "1. The method must have the same name as in the parent class.  \n",
    "2. The method must have the same parameter(s) as in the parent class.  \n",
    "3. There must be an **IS-A relationship (inheritance)**."
   ]
  },
  {
   "cell_type": "markdown",
   "id": "02d3b86d",
   "metadata": {},
   "source": [
    "#### Example:"
   ]
  },
  {
   "cell_type": "code",
   "execution_count": 25,
   "id": "cbec5936",
   "metadata": {},
   "outputs": [
    {
     "name": "stdout",
     "output_type": "stream",
     "text": [
      "Bike is running safely\n"
     ]
    }
   ],
   "source": [
    "class Vehicle {\n",
    "    void run() {\n",
    "        System.out.println(\"Vehicle is running\");\n",
    "    }\n",
    "}\n",
    "\n",
    "class Bike extends Vehicle {\n",
    "    void run() {\n",
    "        System.out.println(\"Bike is running safely\");\n",
    "    }\n",
    "}\n",
    "\n",
    "class OOPS {\n",
    "    public static void main(String[] arg) {\n",
    "        Bike r15 = new Bike();\n",
    "        r15.run();\n",
    "    }\n",
    "}\n",
    "\n",
    "// Running the main method manually\n",
    "OOPS.main(null)"
   ]
  },
  {
   "cell_type": "markdown",
   "id": "34f9c749",
   "metadata": {},
   "source": [
    "## **Inheritance**"
   ]
  },
  {
   "cell_type": "markdown",
   "id": "b2dfd04e",
   "metadata": {},
   "source": [
    "Inheritance in Java is a mechanism in which one object acquires all the properties and behaviors of a parent object.\n",
    "\n",
    "The idea behind inheritance in Java is that you can create new classes that are built upon existing classes. When you inherit from an existing class, you can **reuse** methods and fields of the parent class. Moreover, you can **add new methods and fields** in your current class as well."
   ]
  },
  {
   "cell_type": "markdown",
   "id": "2e901aff",
   "metadata": {},
   "source": [
    "\n",
    "Inheritance represents the **IS-A relationship**, which is also known as a **parent-child relationship**.\n",
    "\n",
    "**Types of Inheritance:**\n",
    "1. **Single Inheritance**  \n",
    "2. **Multi-level Inheritance**  \n",
    "3. **Hierarchical Inheritance**  \n",
    "4. **Multiple Inheritance**  \n",
    "5. **Hybrid Inheritance**"
   ]
  },
  {
   "cell_type": "markdown",
   "id": "bc70a89a",
   "metadata": {},
   "source": [
    "\n",
    "<p align=\"center\">\n",
    "  <img src=\"Types of Inheritance.png\">\n",
    "  <br>\n",
    "  <em>Figure 3. Types of Inheritance</em>\n",
    "</p>"
   ]
  },
  {
   "cell_type": "markdown",
   "id": "d3d72731",
   "metadata": {},
   "source": [
    "### Single Inheritance:"
   ]
  },
  {
   "cell_type": "markdown",
   "id": "c144bd03",
   "metadata": {},
   "source": [
    "When one class inherits another class, it is known as **single-level inheritance**."
   ]
  },
  {
   "cell_type": "markdown",
   "id": "6f57766d",
   "metadata": {},
   "source": [
    "#### Example:"
   ]
  },
  {
   "cell_type": "code",
   "execution_count": 26,
   "id": "ab19d328",
   "metadata": {},
   "outputs": [
    {
     "name": "stdout",
     "output_type": "stream",
     "text": [
      "Programmer salary is:40000.0\n",
      "Bonus of Programmer is:10000\n"
     ]
    }
   ],
   "source": [
    "class Employee {\n",
    "    float salary = 40000;\n",
    "}\n",
    "\n",
    "class Programmer extends Employee {\n",
    "    int bonus = 10000;\n",
    "}\n",
    "\n",
    "class OOPS {\n",
    "    public static void main(String[] arg) {\n",
    "        Programmer p = new Programmer();\n",
    "        System.out.println(\"Programmer salary is:\" + p.salary);\n",
    "        System.out.println(\"Bonus of Programmer is:\" + p.bonus);\n",
    "    }\n",
    "}\n",
    "\n",
    "// Running the main method manually\n",
    "OOPS.main(null)"
   ]
  },
  {
   "cell_type": "markdown",
   "id": "b1ba8fc8",
   "metadata": {},
   "source": [
    "### Multi-Level Inheritance:"
   ]
  },
  {
   "cell_type": "markdown",
   "id": "e3c5bd08",
   "metadata": {},
   "source": [
    "**Multilevel inheritance** is a process of deriving a class from another derived class. "
   ]
  },
  {
   "cell_type": "markdown",
   "id": "3145c112",
   "metadata": {},
   "source": [
    "#### Example:"
   ]
  },
  {
   "cell_type": "code",
   "execution_count": 27,
   "id": "66526738",
   "metadata": {},
   "outputs": [
    {
     "name": "stdout",
     "output_type": "stream",
     "text": [
      "Programmer salary is:40000.0\n",
      "Bonus of Programmer is:10000\n",
      "Extra Bonus for Senior is:20000\n"
     ]
    }
   ],
   "source": [
    "class Employee{  \n",
    "    float salary = 40000;  \n",
    "}\n",
    "\n",
    "class Programmer extends Employee{  \n",
    "    int bonus = 10000;  \n",
    "}\n",
    "\n",
    "class SeniorProgrammer extends Programmer{\n",
    "    int extraBonus = 20000;\n",
    "}\n",
    "\n",
    "class OOPS {\n",
    "    public static void main(String arg[]) {\n",
    "        SeniorProgrammer p = new SeniorProgrammer();  \n",
    "        System.out.println(\"Programmer salary is:\"+p.salary);  \n",
    "        System.out.println(\"Bonus of Programmer is:\"+p.bonus);\n",
    "        System.out.println(\"Extra Bonus for Senior is:\"+p.extraBonus);\n",
    "    }\n",
    "}\n",
    "\n",
    "// Running the main method manually\n",
    "OOPS.main(null)"
   ]
  },
  {
   "cell_type": "markdown",
   "id": "3bfe0afa",
   "metadata": {},
   "source": [
    "### Hierarchical inheritance: \n"
   ]
  },
  {
   "cell_type": "markdown",
   "id": "07125b4e",
   "metadata": {},
   "source": [
    "**Hierarchical inheritance** is defined as the process of deriving more than one class from a base class. "
   ]
  },
  {
   "cell_type": "markdown",
   "id": "9a67cb1f",
   "metadata": {},
   "source": [
    "#### Example:"
   ]
  },
  {
   "cell_type": "code",
   "execution_count": 28,
   "id": "d47e3bd0",
   "metadata": {},
   "outputs": [
    {
     "name": "stdout",
     "output_type": "stream",
     "text": [
      "28.259999999999998\n",
      "Displays Area of Shape\n"
     ]
    }
   ],
   "source": [
    "class Shape {\n",
    "   public void area() {\n",
    "       System.out.println(\"Displays Area of Shape\");\n",
    "   }\n",
    "}\n",
    "class Triangle extends Shape {\n",
    "   public void area(int h, int b) {\n",
    "       System.out.println((1/2)*b*h);\n",
    "   }  \n",
    "}\n",
    "class Circle extends Shape {\n",
    "   public void area(int r) {\n",
    "       System.out.println((3.14)*r*r);\n",
    "   }  \n",
    "}\n",
    "\n",
    "class OOPS {\n",
    "    public static void main(String arg[]) {\n",
    "        Circle c1 = new Circle();\n",
    "        c1.area(3);\n",
    "        Triangle t1 = new Triangle();\n",
    "        t1.area();\n",
    "    }\n",
    "}\n",
    "\n",
    "// Running the main method manually\n",
    "OOPS.main(null)"
   ]
  },
  {
   "cell_type": "markdown",
   "id": "f1e23eba",
   "metadata": {},
   "source": [
    "## **Encapsulation**"
   ]
  },
  {
   "cell_type": "markdown",
   "id": "9b94a6b9",
   "metadata": {},
   "source": [
    "\n",
    "Encapsulation in Java is a process of **wrapping code** and **data together** into a single unit — for example, a capsule which is a mix of several medicines.\n",
    "\n",
    "We can create a fully encapsulated class in Java by making all the data members of the class **private**. Then we use **setter** and **getter** methods to set and get the data in it.\n",
    "\n"
   ]
  },
  {
   "cell_type": "markdown",
   "id": "bfa4f1e9",
   "metadata": {},
   "source": [
    "\n",
    "\n",
    "### Advantages of Encapsulation\n",
    "\n",
    "- By providing only a **setter** or **getter** method, you can make the class **read-only** or **write-only**.  \n",
    "  In other words, you can skip one method type depending on the requirement.\n",
    "\n",
    "- It provides **control over the data**.  \n",
    "  For example, you can set validation logic inside the setter method (e.g., allowing only values greater than 100).\n",
    "\n",
    "- It helps achieve **data hiding** in Java because other classes cannot access the data directly — only through getters and setters.\n",
    "\n",
    "- The encapsulated class is **easy to test**, so it is **better for unit testing**.\n",
    "\n",
    "- Modern **IDEs** can automatically generate getters and setters, making it **easy and fast** to create encapsulated classes in Java.\n"
   ]
  },
  {
   "cell_type": "markdown",
   "id": "d0a85c30",
   "metadata": {},
   "source": [
    "### Package"
   ]
  },
  {
   "cell_type": "markdown",
   "id": "cd432699",
   "metadata": {},
   "source": [
    "\n",
    "A **package** is a group of similar types of **classes**, **interfaces**, and **sub-packages**. Packages help organize code and prevent naming conflicts in large projects.\n",
    "\n",
    "Packages can be **built-in** or **user-defined**.\n",
    "\n",
    "- **Built-in packages:** `java`, `util`, `io`, etc.  \n",
    "- **User-defined packages:** Created by the programmer to group related classes."
   ]
  },
  {
   "cell_type": "markdown",
   "id": "f0a80e89",
   "metadata": {},
   "source": [
    "#### Example of **Built-in packages**:"
   ]
  },
  {
   "cell_type": "code",
   "execution_count": 29,
   "id": "b6f9c515",
   "metadata": {},
   "outputs": [],
   "source": [
    "import java.util.Scanner;\n",
    "\n",
    "import java.io.IOException;"
   ]
  },
  {
   "cell_type": "markdown",
   "id": "d131ca3c",
   "metadata": {},
   "source": [
    "### Access Modifiers"
   ]
  },
  {
   "cell_type": "markdown",
   "id": "89b79df2",
   "metadata": {},
   "source": [
    "Access modifiers in Java define the **visibility** of classes, methods, and variables.\n",
    "\n",
    "1. **Private**  \n",
    "   - Accessible **only within the same class**.  \n",
    "   - **Not accessible** from outside the class.\n",
    "\n",
    "2. **Default (no modifier)**  \n",
    "   - Accessible **within the same package only**.  \n",
    "   - **Not accessible** from outside the package.  \n",
    "   - If no modifier is specified, Java applies the **default** level.\n",
    "\n",
    "3. **Protected**  \n",
    "   - Accessible **within the same package**.  \n",
    "   - Accessible **outside the package via inheritance** (in child classes).  \n",
    "   - Without inheritance, it’s **not accessible** outside the package.\n",
    "\n",
    "4. **Public**  \n",
    "   - Accessible **everywhere**: within the class, outside the class, within the package, and outside the package.\n"
   ]
  },
  {
   "cell_type": "markdown",
   "id": "e3c53071",
   "metadata": {},
   "source": [
    "### **Encapsulation Defination**"
   ]
  },
  {
   "cell_type": "markdown",
   "id": "ca1061c1",
   "metadata": {},
   "source": [
    "Encapsulation is the process of combining **data** and **functions** into a single unit called a **class**. In encapsulation, the data is **not accessed directly**; instead, it is accessed through the **functions** defined inside the class.\n",
    "\n",
    "In simpler words, attributes of a class are kept **private**, and public **getter** and **setter methods** are used to manipulate these attributes.\n",
    "\n",
    "Thus, encapsulation supports the concept of **data hiding**.\n",
    "\n",
    "**Data hiding:**  \n",
    "A language feature used to **restrict access** to members of an object, reducing unwanted dependencies.  \n",
    "For example, `\"protected\"` and `\"private\"` features in Java help implement data hiding."
   ]
  },
  {
   "cell_type": "markdown",
   "id": "a938a6dd",
   "metadata": {},
   "source": [
    "#### Example:"
   ]
  },
  {
   "cell_type": "code",
   "execution_count": 30,
   "id": "69c4fd73",
   "metadata": {},
   "outputs": [
    {
     "name": "stdout",
     "output_type": "stream",
     "text": [
      "Your Password is: abcd\n"
     ]
    }
   ],
   "source": [
    "class Account {\n",
    "   public String name;\n",
    "   protected String email;\n",
    "   private String password;\n",
    "\n",
    "   public void setPassword(String password) {\n",
    "       this.password = password;\n",
    "   }\n",
    "\n",
    "   public String getPassword() {\n",
    "       return password;\n",
    "   }\n",
    "}\n",
    "\n",
    "class OOPS {\n",
    "   public static void main(String[] args) {\n",
    "       Account a1 = new Account();\n",
    "       a1.name = \"Green University of Bangladesh\";\n",
    "       a1.email = \"hello@green.com\";\n",
    "       a1.setPassword(\"abcd\");\n",
    "\n",
    "       System.out.println(\"Your Password is: \" + a1.getPassword());\n",
    "   }\n",
    "}\n",
    "\n",
    "// Running the main method manually\n",
    "OOPS.main(null)"
   ]
  },
  {
   "cell_type": "markdown",
   "id": "ef6ef2a6",
   "metadata": {},
   "source": [
    "## **Abstraction**"
   ]
  },
  {
   "cell_type": "markdown",
   "id": "4653b8aa",
   "metadata": {},
   "source": [
    "Abstraction is the process of **hiding the implementation details** and **showing only the functionality** to the user.  \n",
    "\n",
    "It displays only the **essential features** of an object and hides the **complex background details**. For example, when sending an SMS, you type the message and press send — you don’t see the internal process of how the message is delivered.\n",
    "\n",
    "Abstraction helps you **focus on what an object does** rather than **how it does it**."
   ]
  },
  {
   "cell_type": "markdown",
   "id": "5f7798d6",
   "metadata": {},
   "source": [
    "#### Ways of Achieving Abstraction:\n",
    "1. **Abstract Class** – Achieves partial abstraction (0% to 100%)  \n",
    "2. **Interface** – Achieves complete abstraction (100%)"
   ]
  },
  {
   "cell_type": "markdown",
   "id": "a338e79b",
   "metadata": {},
   "source": [
    "### **Abstract Class**\n",
    "\n",
    "A class that is declared as **abstract** is known as an **abstract class**. It can have both **abstract** and **non-abstract** methods. An abstract class needs to be **extended** and its abstract methods **implemented** by a subclass. It **cannot be instantiated** directly.\n",
    "\n",
    "**Key Points:**\n",
    "- An abstract class must be declared using the **`abstract`** keyword.  \n",
    "- It can contain both **abstract** (without body) and **non-abstract** (with body) methods.  \n",
    "- It **cannot be instantiated** (objects cannot be created directly).  \n",
    "- It can include **constructors** and **static methods**.  \n",
    "- It can have **final methods**, which prevent subclasses from changing the implementation of that method.\n"
   ]
  },
  {
   "cell_type": "markdown",
   "id": "7b876194",
   "metadata": {},
   "source": [
    "#### **Abstract Method**\n",
    "\n",
    "A **method** that is declared as **abstract** and does **not have an implementation** is known as an **abstract method**. It only provides the **method signature**, and the **subclass** is responsible for providing its **implementation**.\n"
   ]
  },
  {
   "cell_type": "markdown",
   "id": "b429603f",
   "metadata": {},
   "source": [
    "#### <span style=\"color:#CC33CC\">Example: Abstract class that has an **abstract method**.</span><br>"
   ]
  },
  {
   "cell_type": "code",
   "execution_count": 31,
   "id": "c6d078cd",
   "metadata": {},
   "outputs": [
    {
     "name": "stdout",
     "output_type": "stream",
     "text": [
      "Running Safely\n"
     ]
    }
   ],
   "source": [
    "abstract class Bike {\n",
    "    abstract void run();\n",
    "}\n",
    "\n",
    "class R15 extends Bike {\n",
    "    void run() {\n",
    "        System.out.println(\"Running Safely\");\n",
    "    }\n",
    "}\n",
    "\n",
    "class OOPS {\n",
    "   public static void main(String[] args) {\n",
    "       R15 bike = new R15();\n",
    "       bike.run();\n",
    "   }\n",
    "}\n",
    "\n",
    "// Running the main method manually\n",
    "OOPS.main(null)"
   ]
  },
  {
   "cell_type": "markdown",
   "id": "206ea2c3",
   "metadata": {},
   "source": [
    "#### <span style=\"color:#CC33CC\">Example: Abstract class having **constructor**, **data member**, and **methods**.</span><br>\n",
    "\n"
   ]
  },
  {
   "cell_type": "code",
   "execution_count": 32,
   "id": "f917de00",
   "metadata": {},
   "outputs": [
    {
     "name": "stdout",
     "output_type": "stream",
     "text": [
      "bike is created\n",
      "running safely..\n",
      "gear changed\n"
     ]
    }
   ],
   "source": [
    "abstract class Bike{  \n",
    "    Bike(){\n",
    "        System.out.println(\"bike is created\");\n",
    "    }  \n",
    "    \n",
    "    abstract void run();  \n",
    "    \n",
    "    void changeGear(){\n",
    "        System.out.println(\"gear changed\");\n",
    "    }  \n",
    " }  \n",
    "\n",
    " class R15 extends Bike{  \n",
    "    void run(){\n",
    "        System.out.println(\"running safely..\");\n",
    "    }  \n",
    " }  \n",
    "\n",
    "\n",
    "class OOPS {\n",
    "   public static void main(String args[]) {\n",
    "        R15 bike = new R15();  \n",
    "        bike.run(); \n",
    "        bike.changeGear();\n",
    "   }\n",
    "}\n",
    "\n",
    "// Running the main method manually\n",
    "OOPS.main(null)\n"
   ]
  },
  {
   "cell_type": "markdown",
   "id": "8f56f31a",
   "metadata": {},
   "source": [
    "### **Interface**"
   ]
  },
  {
   "cell_type": "markdown",
   "id": "9405bb88",
   "metadata": {},
   "source": [
    "An **interface** in Java is a **blueprint of a class**. It contains **static constants** and **abstract methods**. The interface in Java is a mechanism to achieve **abstraction**. It can contain only **abstract methods** (no method body). Interfaces are used to achieve both **abstraction** and **multiple inheritance** in Java."
   ]
  },
  {
   "cell_type": "markdown",
   "id": "c6c2b07a",
   "metadata": {},
   "source": [
    "In other words, interfaces can have **abstract methods** and **variables**, but they **cannot have method bodies**.\n",
    "\n",
    "\n",
    "**Key Points about Interfaces:**\n",
    "- All fields in interfaces are **public**, **static**, and **final** by default.  \n",
    "- All methods are **public** and **abstract** by default.  \n",
    "- A class that implements an interface must **implement all the methods** declared in the interface.  \n",
    "- Interfaces support the functionality of **multiple inheritance** in Java.\n"
   ]
  },
  {
   "cell_type": "markdown",
   "id": "e0fa0955",
   "metadata": {},
   "source": [
    "#### Example:"
   ]
  },
  {
   "cell_type": "code",
   "execution_count": 33,
   "id": "b8b89476",
   "metadata": {},
   "outputs": [
    {
     "name": "stdout",
     "output_type": "stream",
     "text": [
      "Drawing Circle\n"
     ]
    }
   ],
   "source": [
    "interface Drawable {\n",
    "    void draw();\n",
    "}\n",
    "\n",
    "class Circle implements Drawable {\n",
    "    public void draw() {\n",
    "        System.out.println(\"Drawing Circle\");\n",
    "    }\n",
    "}\n",
    "\n",
    "class OOPS {\n",
    "   public static void main(String[] args) {\n",
    "       Circle c1 = new Circle();\n",
    "       c1.draw();\n",
    "   }\n",
    "}\n",
    "\n",
    "// Running the main method manually\n",
    "OOPS.main(null)"
   ]
  },
  {
   "cell_type": "markdown",
   "id": "6905518d",
   "metadata": {},
   "source": [
    "### **Multiple Inheritance by Interface**\n",
    "\n",
    "If a class **implements multiple interfaces**, or if an **interface extends multiple interfaces**, it is known as **multiple inheritance** in Java. This allows a class to inherit the properties and behaviors of more than one interface.\n"
   ]
  },
  {
   "cell_type": "markdown",
   "id": "43594b07",
   "metadata": {},
   "source": [
    "\n",
    "<p align=\"center\">\n",
    "  <img src=\"multipleinheritance.png\">\n",
    "  <br>\n",
    "  <em>Figure 4. Multiple Inheritance in Java</em>\n",
    "</p>\n",
    "\n"
   ]
  },
  {
   "cell_type": "markdown",
   "id": "f92b097d",
   "metadata": {},
   "source": [
    "#### Example:"
   ]
  },
  {
   "cell_type": "code",
   "execution_count": 34,
   "id": "c48b931d",
   "metadata": {},
   "outputs": [
    {
     "name": "stdout",
     "output_type": "stream",
     "text": [
      "Printing...\n",
      "Showing...\n"
     ]
    }
   ],
   "source": [
    "interface Printable {\n",
    "    void print();\n",
    "}\n",
    "\n",
    "interface Showable {\n",
    "    void show();\n",
    "}\n",
    "\n",
    "class Test implements Printable, Showable {\n",
    "    public void print() {\n",
    "        System.out.println(\"Printing...\");\n",
    "    }\n",
    "    public void show() {\n",
    "        System.out.println(\"Showing...\");\n",
    "    }\n",
    "}\n",
    "\n",
    "public class OOPS {\n",
    "    public static void main(String[] args) {\n",
    "        Test obj = new Test();\n",
    "        obj.print();\n",
    "        obj.show();\n",
    "    }\n",
    "}\n",
    "\n",
    "// Running the main method manually\n",
    "OOPS.main(null)"
   ]
  },
  {
   "cell_type": "markdown",
   "id": "2887f8d5",
   "metadata": {},
   "source": [
    "### Static Keyword"
   ]
  },
  {
   "cell_type": "markdown",
   "id": "0fc10de3",
   "metadata": {},
   "source": [
    "The **static** keyword in Java is used for memory management. It can be applied to variables, methods, blocks, and nested classes.\n",
    "\n",
    "**Static can be:**\n",
    "- **Variable** (also known as a *class variable*)  \n",
    "- **Method** (also known as a *class method*)  \n",
    "- **Block**  \n",
    "- **Nested class**"
   ]
  },
  {
   "cell_type": "markdown",
   "id": "e9dfbdf7",
   "metadata": {},
   "source": [
    "#### Example:"
   ]
  },
  {
   "cell_type": "code",
   "execution_count": 35,
   "id": "e83cc715",
   "metadata": {},
   "outputs": [
    {
     "name": "stdout",
     "output_type": "stream",
     "text": [
      "The Scholars' College\n",
      "The Scholars' College\n"
     ]
    }
   ],
   "source": [
    "class Student {\n",
    "   static String school;\n",
    "   String name;\n",
    "}\n",
    "\n",
    "public class OOPS {\n",
    "   public static void main(String[] args) {\n",
    "       Student.school = \"The Scholars' College\";\n",
    "       Student s1 = new Student();\n",
    "       Student s2 = new Student();\n",
    "\n",
    "       s1.name = \"Meena\";\n",
    "       s2.name = \"Raju\";\n",
    "\n",
    "       System.out.println(s1.school);\n",
    "       System.out.println(s2.school);\n",
    "   }\n",
    "}\n",
    "\n",
    "// Running the main method manually\n",
    "OOPS.main(null)"
   ]
  }
 ],
 "metadata": {
  "kernelspec": {
   "display_name": "Java",
   "language": "java",
   "name": "java"
  },
  "language_info": {
   "codemirror_mode": "java",
   "file_extension": ".jshell",
   "mimetype": "text/x-java-source",
   "name": "java",
   "pygments_lexer": "java",
   "version": "17.0.12+8-LTS-286"
  }
 },
 "nbformat": 4,
 "nbformat_minor": 5
}
